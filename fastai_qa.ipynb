{
 "cells": [
  {
   "cell_type": "code",
   "execution_count": null,
   "id": "f80ee0e0-6be5-4b4f-b7a4-13453fcc84cf",
   "metadata": {
    "collapsed": false,
    "gradient": {
     "editing": false,
     "execution_count": 2,
     "id": "f80ee0e0-6be5-4b4f-b7a4-13453fcc84cf",
     "kernelId": "e429c428-a2be-4c02-a211-637b50d3487f",
     "source_hidden": false
    }
   },
   "outputs": [],
   "source": [
    "#hide\n",
    "!pip install -Uqq fastbook\n",
    "import fastbook\n",
    "fastbook.setup_book()"
   ]
  },
  {
   "cell_type": "code",
   "execution_count": null,
   "id": "bd1436b2-898f-4f8b-a3f4-dc0a72e0b99e",
   "metadata": {
    "collapsed": false,
    "gradient": {
     "editing": false,
     "execution_count": 3,
     "id": "bd1436b2-898f-4f8b-a3f4-dc0a72e0b99e",
     "kernelId": "e429c428-a2be-4c02-a211-637b50d3487f",
     "source_hidden": false
    }
   },
   "outputs": [],
   "source": [
    "#hide\n",
    "from fastbook import *"
   ]
  },
  {
   "cell_type": "code",
   "execution_count": null,
   "id": "1a72e097-7f40-4b25-b291-00fa45d10bb1",
   "metadata": {
    "collapsed": false,
    "gradient": {
     "editing": false,
     "execution_count": 4,
     "id": "1a72e097-7f40-4b25-b291-00fa45d10bb1",
     "kernelId": "e429c428-a2be-4c02-a211-637b50d3487f",
     "source_hidden": false
    }
   },
   "outputs": [
    {
     "name": "stdout",
     "output_type": "stream",
     "text": [
      "Quadro P5000\n"
     ]
    }
   ],
   "source": [
    "print(torch.cuda.get_device_name(0))"
   ]
  },
  {
   "cell_type": "code",
   "execution_count": null,
   "id": "6c4b92a5-a256-4cfb-b8e7-387aff10b092",
   "metadata": {
    "collapsed": false,
    "gradient": {
     "editing": false,
     "execution_count": 5,
     "id": "6c4b92a5-a256-4cfb-b8e7-387aff10b092",
     "kernelId": "e429c428-a2be-4c02-a211-637b50d3487f",
     "source_hidden": false
    }
   },
   "outputs": [
    {
     "name": "stdout",
     "output_type": "stream",
     "text": [
      "1.10.0\n"
     ]
    }
   ],
   "source": [
    "print(torch.__version__)"
   ]
  }
 ],
 "metadata": {},
 "nbformat": 4,
 "nbformat_minor": 5
}
