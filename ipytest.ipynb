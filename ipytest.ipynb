{
 "cells": [
  {
   "cell_type": "code",
   "execution_count": null,
   "id": "5659668b-61e4-48ae-930c-5afc95caadf2",
   "metadata": {
    "collapsed": false,
    "gradient": {
     "editing": false,
     "source_hidden": false
    }
   },
   "outputs": [
    {
     "name": "stdout",
     "output_type": "stream",
     "text": [
      "\u001b[33mWARNING: The directory '/home/jovyan/.cache/pip' or its parent directory is not owned or is not writable by the current user. The cache has been disabled. Check the permissions and owner of that directory. If executing pip with sudo, you should use sudo's -H flag.\u001b[0m\r\n"
     ]
    },
    {
     "name": "stdout",
     "output_type": "stream",
     "text": [
      "Collecting ipytest\r\n"
     ]
    },
    {
     "name": "stdout",
     "output_type": "stream",
     "text": [
      "  Downloading ipytest-0.11.0-py3-none-any.whl (16 kB)\r\n",
      "Requirement already satisfied: ipython in /opt/conda/lib/python3.9/site-packages (from ipytest) (7.28.0)\r\n"
     ]
    },
    {
     "name": "stdout",
     "output_type": "stream",
     "text": [
      "Collecting pytest>=5.4\r\n",
      "  Downloading pytest-6.2.5-py3-none-any.whl (280 kB)\r\n",
      "\u001b[?25l\r",
      "\u001b[K     |█▏                              | 10 kB 18.2 MB/s eta 0:00:01\r",
      "\u001b[K     |██▍                             | 20 kB 20.4 MB/s eta 0:00:01\r",
      "\u001b[K     |███▌                            | 30 kB 21.4 MB/s eta 0:00:01\r",
      "\u001b[K     |████▊                           | 40 kB 13.9 MB/s eta 0:00:01\r",
      "\u001b[K     |█████▉                          | 51 kB 11.9 MB/s eta 0:00:01\r",
      "\u001b[K     |███████                         | 61 kB 12.9 MB/s eta 0:00:01\r",
      "\u001b[K     |████████▏                       | 71 kB 13.5 MB/s eta 0:00:01\r",
      "\u001b[K     |█████████▍                      | 81 kB 13.9 MB/s eta 0:00:01\r",
      "\u001b[K     |██████████▌                     | 92 kB 14.2 MB/s eta 0:00:01\r",
      "\u001b[K     |███████████▊                    | 102 kB 15.1 MB/s eta 0:00:01\r",
      "\u001b[K     |████████████▉                   | 112 kB 15.1 MB/s eta 0:00:01\r",
      "\u001b[K     |██████████████                  | 122 kB 15.1 MB/s eta 0:00:01\r",
      "\u001b[K     |███████████████▏                | 133 kB 15.1 MB/s eta 0:00:01\r",
      "\u001b[K     |████████████████▍               | 143 kB 15.1 MB/s eta 0:00:01\r",
      "\u001b[K     |█████████████████▌              | 153 kB 15.1 MB/s eta 0:00:01\r",
      "\u001b[K     |██████████████████▊             | 163 kB 15.1 MB/s eta 0:00:01\r",
      "\u001b[K     |███████████████████▉            | 174 kB 15.1 MB/s eta 0:00:01\r",
      "\u001b[K     |█████████████████████           | 184 kB 15.1 MB/s eta 0:00:01\r",
      "\u001b[K     |██████████████████████▏         | 194 kB 15.1 MB/s eta 0:00:01\r",
      "\u001b[K     |███████████████████████▍        | 204 kB 15.1 MB/s eta 0:00:01\r",
      "\u001b[K     |████████████████████████▌       | 215 kB 15.1 MB/s eta 0:00:01\r",
      "\u001b[K     |█████████████████████████▊      | 225 kB 15.1 MB/s eta 0:00:01\r",
      "\u001b[K     |██████████████████████████▉     | 235 kB 15.1 MB/s eta 0:00:01\r",
      "\u001b[K     |████████████████████████████    | 245 kB 15.1 MB/s eta 0:00:01\r",
      "\u001b[K     |█████████████████████████████▏  | 256 kB 15.1 MB/s eta 0:00:01\r",
      "\u001b[K     |██████████████████████████████▍ | 266 kB 15.1 MB/s eta 0:00:01\r",
      "\u001b[K     |███████████████████████████████▌| 276 kB 15.1 MB/s eta 0:00:01\r",
      "\u001b[K     |████████████████████████████████| 280 kB 15.1 MB/s \r\n",
      "\u001b[?25hRequirement already satisfied: packaging in /opt/conda/lib/python3.9/site-packages (from ipytest) (21.0)\r\n"
     ]
    },
    {
     "name": "stdout",
     "output_type": "stream",
     "text": [
      "Collecting iniconfig\r\n",
      "  Downloading iniconfig-1.1.1-py2.py3-none-any.whl (5.0 kB)\r\n"
     ]
    },
    {
     "name": "stdout",
     "output_type": "stream",
     "text": [
      "Collecting py>=1.8.2\r\n",
      "  Downloading py-1.10.0-py2.py3-none-any.whl (97 kB)\r\n",
      "\u001b[?25l\r",
      "\u001b[K     |███▍                            | 10 kB 16.2 MB/s eta 0:00:01\r",
      "\u001b[K     |██████▊                         | 20 kB 23.2 MB/s eta 0:00:01\r",
      "\u001b[K     |██████████                      | 30 kB 26.3 MB/s eta 0:00:01\r",
      "\u001b[K     |█████████████▍                  | 40 kB 27.2 MB/s eta 0:00:01\r",
      "\u001b[K     |████████████████▉               | 51 kB 27.9 MB/s eta 0:00:01\r",
      "\u001b[K     |████████████████████▏           | 61 kB 29.6 MB/s eta 0:00:01\r",
      "\u001b[K     |███████████████████████▌        | 71 kB 30.3 MB/s eta 0:00:01\r",
      "\u001b[K     |██████████████████████████▉     | 81 kB 30.4 MB/s eta 0:00:01\r",
      "\u001b[K     |██████████████████████████████▏ | 92 kB 31.2 MB/s eta 0:00:01\r",
      "\u001b[K     |████████████████████████████████| 97 kB 29.8 MB/s \r\n"
     ]
    },
    {
     "name": "stdout",
     "output_type": "stream",
     "text": [
      "\u001b[?25hCollecting pluggy<2.0,>=0.12\r\n",
      "  Downloading pluggy-1.0.0-py2.py3-none-any.whl (13 kB)\r\n",
      "Collecting toml\r\n",
      "  Downloading toml-0.10.2-py2.py3-none-any.whl (16 kB)\r\n"
     ]
    },
    {
     "name": "stdout",
     "output_type": "stream",
     "text": [
      "Requirement already satisfied: attrs>=19.2.0 in /opt/conda/lib/python3.9/site-packages (from pytest>=5.4->ipytest) (21.2.0)\r\n"
     ]
    },
    {
     "name": "stdout",
     "output_type": "stream",
     "text": [
      "Requirement already satisfied: prompt-toolkit!=3.0.0,!=3.0.1,<3.1.0,>=2.0.0 in /opt/conda/lib/python3.9/site-packages (from ipython->ipytest) (3.0.20)\r\n",
      "Requirement already satisfied: backcall in /opt/conda/lib/python3.9/site-packages (from ipython->ipytest) (0.2.0)\r\n",
      "Requirement already satisfied: pickleshare in /opt/conda/lib/python3.9/site-packages (from ipython->ipytest) (0.7.5)\r\n",
      "Requirement already satisfied: pygments in /opt/conda/lib/python3.9/site-packages (from ipython->ipytest) (2.10.0)\r\n"
     ]
    },
    {
     "name": "stdout",
     "output_type": "stream",
     "text": [
      "Requirement already satisfied: traitlets>=4.2 in /opt/conda/lib/python3.9/site-packages (from ipython->ipytest) (5.1.0)\r\n",
      "Requirement already satisfied: setuptools>=18.5 in /opt/conda/lib/python3.9/site-packages (from ipython->ipytest) (58.2.0)\r\n",
      "Requirement already satisfied: decorator in /opt/conda/lib/python3.9/site-packages (from ipython->ipytest) (5.1.0)\r\n",
      "Requirement already satisfied: jedi>=0.16 in /opt/conda/lib/python3.9/site-packages (from ipython->ipytest) (0.18.0)\r\n",
      "Requirement already satisfied: matplotlib-inline in /opt/conda/lib/python3.9/site-packages (from ipython->ipytest) (0.1.3)\r\n",
      "Requirement already satisfied: pexpect>4.3 in /opt/conda/lib/python3.9/site-packages (from ipython->ipytest) (4.8.0)\r\n",
      "Requirement already satisfied: parso<0.9.0,>=0.8.0 in /opt/conda/lib/python3.9/site-packages (from jedi>=0.16->ipython->ipytest) (0.8.2)\r\n",
      "Requirement already satisfied: ptyprocess>=0.5 in /opt/conda/lib/python3.9/site-packages (from pexpect>4.3->ipython->ipytest) (0.7.0)\r\n",
      "Requirement already satisfied: wcwidth in /opt/conda/lib/python3.9/site-packages (from prompt-toolkit!=3.0.0,!=3.0.1,<3.1.0,>=2.0.0->ipython->ipytest) (0.2.5)\r\n"
     ]
    },
    {
     "name": "stdout",
     "output_type": "stream",
     "text": [
      "Requirement already satisfied: pyparsing>=2.0.2 in /opt/conda/lib/python3.9/site-packages (from packaging->ipytest) (2.4.7)\r\n"
     ]
    },
    {
     "name": "stdout",
     "output_type": "stream",
     "text": [
      "Installing collected packages: toml, py, pluggy, iniconfig, pytest, ipytest\r\n"
     ]
    },
    {
     "name": "stdout",
     "output_type": "stream",
     "text": [
      "Successfully installed iniconfig-1.1.1 ipytest-0.11.0 pluggy-1.0.0 py-1.10.0 pytest-6.2.5 toml-0.10.2\r\n",
      "\u001b[33mWARNING: Running pip as the 'root' user can result in broken permissions and conflicting behaviour with the system package manager. It is recommended to use a virtual environment instead: https://pip.pypa.io/warnings/venv\u001b[0m\r\n"
     ]
    }
   ],
   "source": [
    "!pip install -U ipytest"
   ]
  },
  {
   "cell_type": "code",
   "execution_count": null,
   "id": "d55598e2-f939-40f4-b4f6-189d7b3ed172",
   "metadata": {
    "collapsed": false,
    "gradient": {
     "editing": false,
     "source_hidden": false
    }
   },
   "outputs": [],
   "source": [
    "import ipytest\n",
    "ipytest.autoconfig()"
   ]
  },
  {
   "cell_type": "code",
   "execution_count": null,
   "id": "323ec029-a5ae-4819-a099-1f629cf158fc",
   "metadata": {
    "collapsed": false,
    "gradient": {
     "editing": false,
     "source_hidden": false
    }
   },
   "outputs": [
    {
     "name": "stdout",
     "output_type": "stream",
     "text": [
      "\u001b[32m.\u001b[0m"
     ]
    },
    {
     "name": "stdout",
     "output_type": "stream",
     "text": [
      "\u001b[32m                                                                                            [100%]\u001b[0m"
     ]
    },
    {
     "name": "stdout",
     "output_type": "stream",
     "text": [
      "\n",
      "\u001b[32m\u001b[32m\u001b[1m1 passed\u001b[0m\u001b[32m in 0.09s\u001b[0m\u001b[0m\n"
     ]
    }
   ],
   "source": [
    "\n",
    "%%ipytest\n",
    "\n",
    "# define the tests\n",
    "\n",
    "def test_my_func():\n",
    "    assert my_func(0) == 0\n",
    "    assert my_func(1) == 0\n",
    "    assert my_func(2) == 2\n",
    "    assert my_func(3) == 2\n",
    "    \n",
    "    \n",
    "def my_func(x):\n",
    "    return x // 2 * 2"
   ]
  },
  {
   "cell_type": "code",
   "execution_count": null,
   "id": "e8508f09-d94b-455f-badd-cd5640975904",
   "metadata": {
    "collapsed": false,
    "gradient": {
     "editing": false,
     "source_hidden": false
    }
   },
   "outputs": [
    {
     "name": "stdout",
     "output_type": "stream",
     "text": [
      "\u001b[32m.\u001b[0m"
     ]
    },
    {
     "name": "stdout",
     "output_type": "stream",
     "text": [
      "\u001b[32m.\u001b[0m"
     ]
    },
    {
     "name": "stdout",
     "output_type": "stream",
     "text": [
      "\u001b[32m.\u001b[0m"
     ]
    },
    {
     "name": "stdout",
     "output_type": "stream",
     "text": [
      "\u001b[32m.\u001b[0m"
     ]
    },
    {
     "name": "stdout",
     "output_type": "stream",
     "text": [
      "\u001b[32m.\u001b[0m"
     ]
    },
    {
     "name": "stdout",
     "output_type": "stream",
     "text": [
      "\u001b[32m                                                                                        [100%]\u001b[0m"
     ]
    },
    {
     "name": "stdout",
     "output_type": "stream",
     "text": [
      "\n",
      "\u001b[32m\u001b[32m\u001b[1m5 passed\u001b[0m\u001b[32m in 0.04s\u001b[0m\u001b[0m\n"
     ]
    }
   ],
   "source": [
    "\n",
    "%%ipytest\n",
    "\n",
    "import pytest\n",
    "\n",
    "@pytest.mark.parametrize('input,expected', [\n",
    "    (0, 0),\n",
    "    (1, 0),\n",
    "    (2, 2),\n",
    "    (3, 2),\n",
    "])\n",
    "def test_parametrized(input, expected):\n",
    "    assert my_func(input) == expected\n",
    "    \n",
    "    \n",
    "@pytest.fixture\n",
    "def my_fixture():\n",
    "    return 42\n",
    "    \n",
    "    \n",
    "def test_fixture(my_fixture):\n",
    "    assert my_fixture == 42"
   ]
  }
 ],
 "metadata": {},
 "nbformat": 4,
 "nbformat_minor": 5
}
